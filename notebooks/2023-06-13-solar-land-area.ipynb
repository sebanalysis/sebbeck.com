{
 "cells": [
  {
   "attachments": {},
   "cell_type": "markdown",
   "id": "f54be0fe",
   "metadata": {},
   "source": [
    "Download Jupyter Notebook File: [ipynb File](/notebooks/2023-06-13-solar-land-area.ipynb)"
   ]
  },
  {
   "attachments": {},
   "cell_type": "markdown",
   "id": "bce660f8",
   "metadata": {},
   "source": [
    "How many times have you heard the claim that \"we can power the world with solar photovoltaic (PV) power\". [After encountering many false claims](/2023/06/13//false-claims-about-solar-potential),  I will now subject it to thorough engineering analysis. I will outline the critical assumptions needed to estimate the land area that solar farms would need to cover including un-panelled site-access area.\n",
    "\n",
    "Several methodologies exist for estimating the land area capacity of solar power. I will utilize 'Average Practical PV Output' data, which is available country by country in terms of kWh/kWp/day. I.e. average energy output to grid per unit of capacity per day. This method, widely employed and supported by renewable energy advocates, conveniently provides a modest accounting for several confounding factors associated with solar energy production including panel efficiency, self-shading and soiling.\n",
    "\n",
    "This study does not account for all the auxiliary areas associated with solar farms. These areas include extensive mining and manufacturing facilities necessary for the production and maintenance of solar panels.\n",
    "\n",
    "The analysis adopts a 'copper-plate model'. This modeling approach overlooks the infrastructure and limitations of energy transport, assuming, simplistically, that all system components are situated in one place.\n",
    "\n",
    "Land area calculations for solar capacity are based on preliminary site selection. However, as securing ideal sites becomes more challenging, later sites will likely be less optimal. Consequently, this study does not take into account the self-shading effect of the undulating terrain itself, or other siting limitations that can affect the efficiency of solar energy production.\n",
    "\n",
    "This analysis does not consider the potential role of thermal solar power, which has the potential to outperform PV technology in providing efficient, low-grade water-heating solutions.\n",
    "\n",
    "Primary energy consumption data is relatively consistent across sources such as BP, EIA, and IEA. For this analysis, I will use data from BP, the most frequently cited source for primary energy information."
   ]
  },
  {
   "attachments": {},
   "cell_type": "markdown",
   "id": "a2b2b547",
   "metadata": {},
   "source": [
    "### Capacity Factor Data\n",
    "\n",
    "The capacity factor is the actual output of the panels divided by the maximum output potential of the panels for a whole year. This is obviously better in sunny countries and worse in less-sunlit countries. The capacity factor also changes dramatically between winter and summer in countries which are far from the equator, so here we are looking at a year-average.\n",
    "\n",
    "The capacity factor for each country can be obtained from the [Global Photovoltaic Power Potential by Country](https://datacatalog.worldbank.org/search/dataset/0038379) dataset. This data, is compiled by [Solargis](https://solargis.com) and was funded by the World Bank.\n",
    "\n",
    "This data operates under the assumption of freestanding structures utilizing monofacial crystalline silicon PV modules, which are mounted at an optimal tilt to maximize annual energy yield. It also considers the use of high-efficiency inverters.\n",
    "\n",
    "The data factors in solar radiation, air temperature, and terrain to simulate the energy conversion and losses in the PV modules and other components of a PV power plant. It presumes a 3.5% loss due to dirt and soiling, while the aggregate impact of other conversion losses—including inter-row shading, mismatch, inverters, cables, and transformers—is estimated at 7.5%. The power plant availability is assumed to be 100%.\n",
    "\n",
    "The key column we need, labeled 'Average practical potential kWh/kWp/day' in the source data essentially represents the year-averaged capacity factor multiplied by 24. [Refer to footnote for more details](#footnotes)."
   ]
  },
  {
   "cell_type": "code",
   "execution_count": 1,
   "id": "d11330e1-7e10-40f1-904a-ab7d517b9669",
   "metadata": {},
   "outputs": [],
   "source": [
    "import pandas as pd\n",
    "import numpy as np\n",
    "from numpy import pi, sqrt, log\n",
    "import sympy as sp\n",
    "# from sympy import pi, sqrt, log\n",
    "import requests\n",
    "import folium\n",
    "from handcalcs.decorator import handcalc\n",
    "import handcalcs.render\n",
    "from IPython.display import Markdown\n",
    "from bs4 import BeautifulSoup\n",
    "# from pint import UnitRegistry\n",
    "# si = UnitRegistry()\n",
    "\n",
    "import forallpeople as si\n",
    "# try:\n",
    "si.environment('energy_custom')\n",
    "# except:\n",
    "#     si.environment(\"default\")\n",
    "# pd.set_option(\"display.precision\", 1)\n",
    "import io\n",
    "\n",
    "show = lambda func: display(Markdown(func))\n",
    "hc = handcalc(jupyter_display=True)"
   ]
  },
  {
   "cell_type": "code",
   "execution_count": 2,
   "id": "e98784ef-4867-4296-80ce-6f0fc6951d84",
   "metadata": {},
   "outputs": [],
   "source": [
    "# # Solargis: Solar data\n",
    "# import os\n",
    "# URL = 'https://datacatalogfiles.worldbank.org/ddh-published/0038379/DR0046831/solargis_pvpotential_countryranking_2020_data.xlsx'\n",
    "# file = os.path.basename(URL)\n",
    "# response = requests.get(URL)\n",
    "\n",
    "# with open(file, 'wb') as f:\n",
    "#     f.write(response.content)\n",
    "    \n",
    "# df =pd.read_excel('solargis_pvpotential_countryranking_2020_data.xlsx', sheet_name='Country indicators', header=[1])\n",
    "# df.columns = (df.columns\n",
    "#               .str.replace('\\n',' ', regex=True)\n",
    "#               .str.replace(' +',' ', regex=True))\n",
    "# df = df.rename(columns={\"Country or region\":\"Country\"})\n",
    "# df.to_csv('solargis.csv', index=False)\n"
   ]
  },
  {
   "cell_type": "code",
   "execution_count": 3,
   "id": "52f2477b-7fe7-4028-897a-6f9b7803fda5",
   "metadata": {},
   "outputs": [],
   "source": [
    "df =pd.read_csv('solargis.csv')\n",
    "\n",
    "\n",
    "HOURS =24\n",
    "solargis=pd.DataFrame()\n",
    "solargis[\"capacity_factor\"] = df['Average practical potential (PVOUT Level 1, kWh/kWp/day), long-term']/HOURS\n",
    "\n",
    "METRES = 1E6 # METRES per Kilometre\n",
    "solargis[\"country_area_m2\"] = df['Total area, 2018']*METRES\n",
    "solargis[[\"Country\", \"ISO_A3\"]] = df[[\"Country\", \"ISO_A3\"]]\n",
    "solargis = solargis.dropna(how=\"any\")\n",
    "\n",
    "df = (\n",
    "    solargis\n",
    ".set_index(\"Country\")[[\"capacity_factor\"]]\n",
    ".sort_values(\"capacity_factor\", ascending=False)\n",
    ".rename(columns={\"capacity_factor\":\"Capacity Factor [%]\"})\n",
    "* 100\n",
    ")"
   ]
  },
  {
   "cell_type": "code",
   "execution_count": 4,
   "id": "81759ae1",
   "metadata": {},
   "outputs": [
    {
     "data": {
      "text/html": [
       "<div>\n",
       "<style scoped>\n",
       "    .dataframe tbody tr th:only-of-type {\n",
       "        vertical-align: middle;\n",
       "    }\n",
       "\n",
       "    .dataframe tbody tr th {\n",
       "        vertical-align: top;\n",
       "    }\n",
       "\n",
       "    .dataframe thead th {\n",
       "        text-align: right;\n",
       "    }\n",
       "</style>\n",
       "<table border=\"1\" class=\"dataframe\">\n",
       "  <thead>\n",
       "    <tr style=\"text-align: right;\">\n",
       "      <th></th>\n",
       "      <th>Capacity Factor [%]</th>\n",
       "    </tr>\n",
       "    <tr>\n",
       "      <th>Country</th>\n",
       "      <th></th>\n",
       "    </tr>\n",
       "  </thead>\n",
       "  <tbody>\n",
       "    <tr>\n",
       "      <th>Namibia</th>\n",
       "      <td>22</td>\n",
       "    </tr>\n",
       "    <tr>\n",
       "      <th>Chile</th>\n",
       "      <td>22</td>\n",
       "    </tr>\n",
       "    <tr>\n",
       "      <th>Jordan</th>\n",
       "      <td>22</td>\n",
       "    </tr>\n",
       "    <tr>\n",
       "      <th>Arab Republic of Egypt</th>\n",
       "      <td>22</td>\n",
       "    </tr>\n",
       "    <tr>\n",
       "      <th>Republic of Yemen</th>\n",
       "      <td>22</td>\n",
       "    </tr>\n",
       "    <tr>\n",
       "      <th>...</th>\n",
       "      <td>...</td>\n",
       "    </tr>\n",
       "    <tr>\n",
       "      <th>Estonia</th>\n",
       "      <td>12</td>\n",
       "    </tr>\n",
       "    <tr>\n",
       "      <th>Isle of Man (U.K.)</th>\n",
       "      <td>12</td>\n",
       "    </tr>\n",
       "    <tr>\n",
       "      <th>Norway</th>\n",
       "      <td>12</td>\n",
       "    </tr>\n",
       "    <tr>\n",
       "      <th>United Kingdom</th>\n",
       "      <td>11</td>\n",
       "    </tr>\n",
       "    <tr>\n",
       "      <th>Ireland</th>\n",
       "      <td>10</td>\n",
       "    </tr>\n",
       "  </tbody>\n",
       "</table>\n",
       "<p>207 rows × 1 columns</p>\n",
       "</div>"
      ],
      "text/plain": [
       "                        Capacity Factor [%]\n",
       "Country                                    \n",
       "Namibia                                  22\n",
       "Chile                                    22\n",
       "Jordan                                   22\n",
       "Arab Republic of Egypt                   22\n",
       "Republic of Yemen                        22\n",
       "...                                     ...\n",
       "Estonia                                  12\n",
       "Isle of Man (U.K.)                       12\n",
       "Norway                                   12\n",
       "United Kingdom                           11\n",
       "Ireland                                  10\n",
       "\n",
       "[207 rows x 1 columns]"
      ]
     },
     "execution_count": 4,
     "metadata": {},
     "output_type": "execute_result"
    }
   ],
   "source": [
    "pd.set_option(\"display.precision\", 0)\n",
    "df"
   ]
  },
  {
   "attachments": {},
   "cell_type": "markdown",
   "id": "c9dc572c",
   "metadata": {},
   "source": [
    "Some of the least sunlit regions correspond to the most developed countries worldwide, a fact that may surprise many. Equally surprising is that the sunniest regions only possess double the capacity factor of the least sunny ones. However, the capacity factor isn't the only determinant of potential solar energy utilization.\n",
    "\n",
    "A significant challenge confronting these northern countries is the temporal disparity of solar energy availability. The majority of solar energy is received during long summer days, and currently, there are no efficient methods to store such large quantities of electricity for an extended period of six months.\n",
    "\n",
    "The average global capacity factor, when accounting for land area, is as follows:"
   ]
  },
  {
   "cell_type": "code",
   "execution_count": 5,
   "id": "1f5542f2",
   "metadata": {},
   "outputs": [
    {
     "data": {
      "text/latex": [
       "\\[\n",
       "\\begin{aligned}\n",
       "C_{f_{global}} &= 0.18 \\; \n",
       "\\end{aligned}\n",
       "\\]"
      ],
      "text/plain": [
       "<IPython.core.display.Latex object>"
      ]
     },
     "metadata": {},
     "output_type": "display_data"
    }
   ],
   "source": [
    "%%render 2\n",
    "C_f_global = np.average(solargis[\"capacity_factor\"], weights=solargis[\"country_area_m2\"])\n"
   ]
  },
  {
   "attachments": {},
   "cell_type": "markdown",
   "id": "1d2c38da",
   "metadata": {},
   "source": [
    "### Solar Potential Assumptions\n",
    "\n",
    "We can now begin to formulate a reasonable estimate for the net amount of electricity solar power can deliver, taking all lifetime costs into account. Essentially, we're seeking to determine the average annual solar power output per unit of land area, expressed in electrical energy output, per second, per square metre. This is expressed in the unit of \"watts\" per square meter (W·m⁻²). \n",
    "\n",
    "The most crucial factor is the installed capacity of existing solar farms. It may seem intuitive to calculate solar PV potential simply by multiplying the incident radiation energy by the panel's efficiency. However, this approach overlooks several important aspects.\n",
    "\n",
    "We must also account for factors like construction, maintenance, disposal, recycling, and transportation, which are currently supported by the existing fossil fuel infrastructure. These elements play a significant role in the comprehensive understanding and evaluation of solar power potential. "
   ]
  },
  {
   "cell_type": "code",
   "execution_count": 6,
   "id": "336dec24",
   "metadata": {},
   "outputs": [
    {
     "data": {
      "text/markdown": [
       "| Symbol   | Name                       | Description                                                                                                  | Source            |\n",
       "|:---------|:---------------------------|:-------------------------------------------------------------------------------------------------------------|:------------------|\n",
       "| C_f      | Capacity Factor            | Average output divided by installed capacity (from SolarGIS paid for by World Bank)                          | known per country |\n",
       "| C        | Installed Capacity [W/m^2] | Installed capacity (max possible output) of solar power per unit land area in Watts / square metre           | assumption        |\n",
       "| E        | Embodied Energy            | Total lifetime output minus that used to construct and maintain the panel as a proportion of lifetime output | assumption        |\n",
       "| A        | Availability               | The proportion of time that the plant is available to generate power                                         | nan               |"
      ],
      "text/plain": [
       "<IPython.core.display.Markdown object>"
      ]
     },
     "metadata": {},
     "output_type": "display_data"
    }
   ],
   "source": [
    "solar_assumptions = \"\"\"\n",
    "Symbol,Name,Description,Source\n",
    "C_f,Capacity Factor,Average output divided by installed capacity (from SolarGIS paid for by World Bank),known per country\n",
    "C,Installed Capacity [W/m^2], Installed capacity (max possible output) of solar power per unit land area in Watts / square metre,assumption\n",
    "E,Embodied Energy, Total lifetime output minus that used to construct and maintain the panel as a proportion of lifetime output,assumption\n",
    "A,Availability, The proportion of time that the plant is available to generate power\n",
    "\"\"\"\n",
    "solar_assumption_table = pd.read_csv(io.StringIO(solar_assumptions), index_col=0)\n",
    "show(solar_assumption_table.to_markdown())"
   ]
  },
  {
   "attachments": {},
   "cell_type": "markdown",
   "id": "e251d345",
   "metadata": {},
   "source": [
    "$$Production\\ [W / m^2]= C_f \\cdot C \\cdot E$$"
   ]
  },
  {
   "attachments": {},
   "cell_type": "markdown",
   "id": "040613a9",
   "metadata": {},
   "source": [
    "As a first start, lets take the following optimistic estimates and apply them to the global totals to get a minimum estimate of the global land area we will need to cover with solar farms.\n",
    "\n",
    "<h3 id=\"installed\">Installed Capacity of Farms</h3>\n",
    "\n",
    "What is call the installed capacity is often called the '[capacity density](https://www.cell.com/cms/10.1016/j.joule.2021.03.005/attachment/c2b79392-88f9-4231-833d-faf1a0a2a125/mmc1)', 'land-use efficiency' or LUE in the literature.\n",
    "\n",
    "The installed capacity per unit area depends on what sort of panel efficiency and layout density the solar farm can achieve. The relevant value is the “MW-ac” – the alternating current that it is capable of sending to the Grid after electrical inversion. This is approximately 80% of the “MW-dc”. Hereafter, I refer to MW-ac simply as MW.\n",
    "\n",
    "- [California Solar PV Land Use efficiency](https://www.researchgate.net/publication/259386034_Land-Use_Efficiency_of_Big_Solar) in 2013 was **35W/m2**.\n",
    "- [The US Average  Land Use efficiency](https://www.nrel.gov/docs/fy13osti/56290.pdf) in 2013  was **42.5 W/m2** (5.8 acres/MW) for a Fixed Axis, Large (>20MW) capacity-weighted average.\n",
    "- [](https://www.cell.com/cms/10.1016/j.joule.2021.03.005/attachment/c2b79392-88f9-4231-833d-faf1a0a2a125/mmc1)"
   ]
  },
  {
   "cell_type": "code",
   "execution_count": 7,
   "id": "1a81bd63",
   "metadata": {},
   "outputs": [
    {
     "data": {
      "text/latex": [
       "\\[\n",
       "\\begin{aligned}\n",
       "C &= 50\\ \\mathrm{W/m²} \\;\n",
       "\\end{aligned}\n",
       "\\]"
      ],
      "text/plain": [
       "<IPython.core.display.Latex object>"
      ]
     },
     "metadata": {},
     "output_type": "display_data"
    }
   ],
   "source": [
    "%%render params 0\n",
    "C = (50 * si.W / si.m**2)"
   ]
  },
  {
   "attachments": {},
   "cell_type": "markdown",
   "id": "ae7db9c6",
   "metadata": {},
   "source": [
    "<h3 id=\"embodied\">Embodied Energy</h3>\n",
    "\n",
    "It typically takes the first [2 years](https://cat.org.uk/info-resources/free-information-service/energy/solar-photovoltaic/) of the solar panel's 20 year life to pay back the embodied energy consumed in the manufacturing. We have to account for this by discounting at least 10% of the lifetime energy output. The first two years are the most productive part of the panel life, but lets assume energy output doesn't decay through the lifetime. Some energy is also required for cleaning, repair, recycling, transport and disposal. \n",
    "\n"
   ]
  },
  {
   "cell_type": "code",
   "execution_count": 8,
   "id": "38fbb127",
   "metadata": {},
   "outputs": [
    {
     "data": {
      "text/latex": [
       "\\[\n",
       "\\begin{aligned}\n",
       "E &= 1 - 0.1 - 0.01 &= 0.89  \n",
       "\\end{aligned}\n",
       "\\]"
      ],
      "text/plain": [
       "<IPython.core.display.Latex object>"
      ]
     },
     "metadata": {},
     "output_type": "display_data"
    }
   ],
   "source": [
    "%%render 2\n",
    "E = 1- 0.1 - 0.01"
   ]
  },
  {
   "attachments": {},
   "cell_type": "markdown",
   "id": "c47294ca",
   "metadata": {},
   "source": [
    "<h3 id=\"availability\">Availability Factor</h3>\n",
    "\n",
    "In a solar PV power plant, the plant availability factor is one of the important factors to be evaluated. This depends on the operative functioning of various components and grid regulation. This paper looked at a single industrial scale plant over 5 years, and found an average of [95%](https://www.sciencedirect.com/science/article/pii/S1876610218301917). From the analysis, it is observed that tripping time greatly effects the availability factor of inverter as well as the PV plant."
   ]
  },
  {
   "cell_type": "code",
   "execution_count": 9,
   "id": "5c9cc848",
   "metadata": {},
   "outputs": [
    {
     "data": {
      "text/latex": [
       "\\[\n",
       "\\begin{aligned}\n",
       "A &= 0.950 \\; \n",
       "\\end{aligned}\n",
       "\\]"
      ],
      "text/plain": [
       "<IPython.core.display.Latex object>"
      ]
     },
     "metadata": {},
     "output_type": "display_data"
    }
   ],
   "source": [
    "%%render\n",
    "\n",
    "A = 0.95"
   ]
  },
  {
   "attachments": {},
   "cell_type": "markdown",
   "id": "8dfdcb9d",
   "metadata": {},
   "source": [
    "Needless to say, these estimates are unrealistic, especially the overbuild factor. But they provide a bare minimum unachievable according to the laws of physics. \n",
    "\n",
    "Now I will use these scaling factors to calculate the total area of solar panels required."
   ]
  },
  {
   "attachments": {},
   "cell_type": "markdown",
   "id": "914015ff",
   "metadata": {},
   "source": [
    "Therefore solar can produce:"
   ]
  },
  {
   "cell_type": "code",
   "execution_count": 10,
   "id": "2d4859c2",
   "metadata": {},
   "outputs": [
    {
     "data": {
      "text/latex": [
       "\\[\n",
       "\\begin{aligned}\n",
       "\\mathrm{Production} &= C_{f_{global}} \\cdot C \\cdot E \\cdot A  = 0.2 \\cdot 50.0\\ \\mathrm{W/m²} \\cdot 0.9 \\cdot 0.9 &= 7.5\\ \\mathrm{W/m²}  \n",
       "\\end{aligned}\n",
       "\\]"
      ],
      "text/plain": [
       "<IPython.core.display.Latex object>"
      ]
     },
     "metadata": {},
     "output_type": "display_data"
    }
   ],
   "source": [
    "%%render 1\n",
    "\n",
    "Production = C_f_global  * C *E *A"
   ]
  },
  {
   "attachments": {},
   "cell_type": "markdown",
   "id": "0ae26936-1fce-478d-bd03-7177f60c5b77",
   "metadata": {
    "tags": []
   },
   "source": [
    "---\n",
    "## Total Power Consumption\n",
    "\n",
    "### Primary Energy consumption data\n",
    "\n",
    "[BP Statistical Review of World Energy](https://www.bp.com/en/global/corporate/energy-economics/statistical-review-of-world-energy/downloads.html) is the most widely trusted and canonical estimate of primary energy consumption used worldwide.\n",
    "\n",
    "The definition of Primary energy is the total chemical energy in the fossil fuels burned that year, plus the the equivalent amount of fossil fuel input required to generate electricity produced by non-fossil sources in a fossil fuel power plant assuming 40.625% efficiency. [See footnotes](#footnotes)\n",
    "\n",
    "BP only lists the consumption of the 81 main countries. Other countries are categories in to groups such as \"Other Caribbean\". \n",
    "\n",
    "I immediately convert the data \"primary_ej\" into annual averaged Watts.\n"
   ]
  },
  {
   "cell_type": "code",
   "execution_count": 11,
   "id": "f0e1009d-4cb7-4455-b904-a0147fa92e55",
   "metadata": {},
   "outputs": [],
   "source": [
    "# # BP: Primary Energy\n",
    "# URL  = 'https://www.bp.com/content/dam/bp/business-sites/en/global/corporate/xlsx/energy-economics/statistical-review/bp-stats-review-2022-consolidated-dataset-panel-format.csv'\n",
    "# file = os.path.basename(URL)\n",
    "# response = requests.get(URL)\n",
    "# with open(file, 'wb') as f:\n",
    "#     f.write(response.content)\n",
    "\n",
    "# df = pd.read_csv(file)\n",
    "\n",
    "# df = df[df[\"Year\"] == 2021][[\"Country\",\"ISO3166_alpha3\", \"primary_ej\"]]\n",
    "# df.to_csv(\"bp.csv\", index=False)\n"
   ]
  },
  {
   "cell_type": "code",
   "execution_count": 12,
   "id": "1c4bbe3a-5843-4d20-8a04-e1c075563c5d",
   "metadata": {},
   "outputs": [
    {
     "data": {
      "text/html": [
       "<div>\n",
       "<style scoped>\n",
       "    .dataframe tbody tr th:only-of-type {\n",
       "        vertical-align: middle;\n",
       "    }\n",
       "\n",
       "    .dataframe tbody tr th {\n",
       "        vertical-align: top;\n",
       "    }\n",
       "\n",
       "    .dataframe thead th {\n",
       "        text-align: right;\n",
       "    }\n",
       "</style>\n",
       "<table border=\"1\" class=\"dataframe\">\n",
       "  <thead>\n",
       "    <tr style=\"text-align: right;\">\n",
       "      <th></th>\n",
       "      <th>Primary Energy Consumption [GW]</th>\n",
       "    </tr>\n",
       "    <tr>\n",
       "      <th>Country</th>\n",
       "      <th></th>\n",
       "    </tr>\n",
       "  </thead>\n",
       "  <tbody>\n",
       "    <tr>\n",
       "      <th>Total World</th>\n",
       "      <td>18870</td>\n",
       "    </tr>\n",
       "    <tr>\n",
       "      <th>Total Non-OECD</th>\n",
       "      <td>11581</td>\n",
       "    </tr>\n",
       "    <tr>\n",
       "      <th>Total Asia Pacific</th>\n",
       "      <td>8638</td>\n",
       "    </tr>\n",
       "    <tr>\n",
       "      <th>Total OECD</th>\n",
       "      <td>7289</td>\n",
       "    </tr>\n",
       "    <tr>\n",
       "      <th>China</th>\n",
       "      <td>4998</td>\n",
       "    </tr>\n",
       "    <tr>\n",
       "      <th>...</th>\n",
       "      <td>...</td>\n",
       "    </tr>\n",
       "    <tr>\n",
       "      <th>Other Southern Africa</th>\n",
       "      <td>6</td>\n",
       "    </tr>\n",
       "    <tr>\n",
       "      <th>Latvia</th>\n",
       "      <td>5</td>\n",
       "    </tr>\n",
       "    <tr>\n",
       "      <th>Luxembourg</th>\n",
       "      <td>5</td>\n",
       "    </tr>\n",
       "    <tr>\n",
       "      <th>Cyprus</th>\n",
       "      <td>3</td>\n",
       "    </tr>\n",
       "    <tr>\n",
       "      <th>North Macedonia</th>\n",
       "      <td>3</td>\n",
       "    </tr>\n",
       "  </tbody>\n",
       "</table>\n",
       "<p>104 rows × 1 columns</p>\n",
       "</div>"
      ],
      "text/plain": [
       "                       Primary Energy Consumption [GW]\n",
       "Country                                               \n",
       "Total World                                      18870\n",
       "Total Non-OECD                                   11581\n",
       "Total Asia Pacific                                8638\n",
       "Total OECD                                        7289\n",
       "China                                             4998\n",
       "...                                                ...\n",
       "Other Southern Africa                                6\n",
       "Latvia                                               5\n",
       "Luxembourg                                           5\n",
       "Cyprus                                               3\n",
       "North Macedonia                                      3\n",
       "\n",
       "[104 rows x 1 columns]"
      ]
     },
     "execution_count": 12,
     "metadata": {},
     "output_type": "execute_result"
    }
   ],
   "source": [
    "# Load the necessary slice of Primary Energy data from 2021\n",
    "df = pd.read_csv(\"bp.csv\")\n",
    "\n",
    "# Convert to year-averaged Watts \n",
    "JOULES = 1E18 # JOULES per Exajoule\n",
    "SECONDS =  3.154e+7 # SECONDS per year\n",
    "\n",
    "df[\"primary_w\"] = df[\"primary_ej\"]*JOULES/SECONDS\n",
    "bp = (\n",
    "    df\n",
    "    .rename(columns={\"ISO3166_alpha3\":\"ISO_A3\"})\n",
    "    .dropna(how=\"any\")\n",
    "    .sort_values(\"primary_w\", ascending=False)\n",
    ")    \n",
    "\n",
    "df = ((bp\n",
    " .drop([\"ISO_A3\", \"primary_ej\"], axis=1)\n",
    " .set_index(\"Country\")\n",
    " .rename(columns={\"primary_w\":\"Primary Energy Consumption [GW]\"})\n",
    " [[\"Primary Energy Consumption [GW]\"]]\n",
    " / 1e9)\n",
    " .round(0)\n",
    ")\n",
    "\n",
    "pd.set_option(\"display.precision\", 0)\n",
    "df"
   ]
  },
  {
   "cell_type": "code",
   "execution_count": 13,
   "id": "a8097357",
   "metadata": {},
   "outputs": [
    {
     "data": {
      "text/latex": [
       "\\[\n",
       "\\begin{aligned}\n",
       "P_{global} &= 19\\ \\mathrm{TW} \\; \n",
       "\\end{aligned}\n",
       "\\]"
      ],
      "text/plain": [
       "<IPython.core.display.Latex object>"
      ]
     },
     "metadata": {},
     "output_type": "display_data"
    }
   ],
   "source": [
    "%%render 0\n",
    "P_global  = bp[\"primary_w\"].iloc[0] * si.W"
   ]
  },
  {
   "attachments": {},
   "cell_type": "markdown",
   "id": "54f3ea93",
   "metadata": {},
   "source": [
    "But now, we need to make a few assumptions in order to use these values to calculate land area. This is where the common-sense comes in. \n",
    "\n",
    "## Energy Demand Assumptions\n",
    "\n",
    "The first step is to scale the primary energy down according to some assumptions to get the actual energy demand we are intending to supply"
   ]
  },
  {
   "cell_type": "code",
   "execution_count": 14,
   "id": "6b8d0e58",
   "metadata": {},
   "outputs": [
    {
     "data": {
      "text/markdown": [
       "| Symbol   | Name                   | Description                                                                                                                        | Source            |\n",
       "|:---------|:-----------------------|:-----------------------------------------------------------------------------------------------------------------------------------|:------------------|\n",
       "| P        | Primary Energy [W]     | Average consumption in Watts averaged over most recent year: 2021 (from BP)                                                        | known per country |\n",
       "| G        | Growth in Consumption  | Factor by which the primary energy consumption has grown when this plan is implemented                                             | assumption        |\n",
       "| S        | Solar Proportion       | Fraction of energy that solar will supply                                                                                          | assumption        |\n",
       "| R        | Efficiency Factor      | Factor by which electrifying transport and heating and changing behavior can reduce final energy demand                            | assumption        |\n",
       "| D        | Electricity Correction | Factor by which to correct the total amount of primary energy ignoring waste heat from non-fossil fuels when producing electricity | nan               |\n",
       "| O        | Overbuild              | Factor of overproduction required to account for insufficient storage for intermittent supply                                      | assumption        |"
      ],
      "text/plain": [
       "<IPython.core.display.Markdown object>"
      ]
     },
     "metadata": {},
     "output_type": "display_data"
    }
   ],
   "source": [
    "energy_assumptions = \"\"\"\n",
    "Symbol,Name,Description,Source\n",
    "P,Primary Energy [W],Average consumption in Watts averaged over most recent year: 2021 (from BP),known per country\n",
    "G,Growth in Consumption,Factor by which the primary energy consumption has grown when this plan is implemented,assumption\n",
    "S,Solar Proportion, Fraction of energy that solar will supply,assumption\n",
    "R,Efficiency Factor, Factor by which electrifying transport and heating and changing behavior can reduce final energy demand,assumption\n",
    "D,Electricity Correction, Factor by which to correct the total amount of primary energy ignoring waste heat from non-fossil fuels when producing electricity\n",
    "O,Overbuild,Factor of overproduction required to account for insufficient storage for intermittent supply,assumption\n",
    "\"\"\"\n",
    "energy_assumption_table = pd.read_csv(io.StringIO(energy_assumptions), index_col=0)\n",
    "show(energy_assumption_table.to_markdown())"
   ]
  },
  {
   "attachments": {},
   "cell_type": "markdown",
   "id": "87782670",
   "metadata": {},
   "source": [
    "$$Energy\\ Demand\\ [W]=  P_{global} \\cdot D \\cdot G \\cdot S \\cdot R \\cdot O$$ \n",
    "\n",
    "\n",
    "<h3 id =\"correction\">Electrical Demand Correction</h3>\n",
    "\n",
    "Note that these primary energy figures from BP (and IEA and EIA) were originally designed to measure fossil fuel consumption not the useful energy that they provide accounting for conversion efficiency. Obviously, the primary energy used in generating electricity is much higher than the electricity provided as most of the chemical energy of the fuel is lost as waste heat, out of the cooling towers. So when it comes to non-fossil generated electricity, to make for a useful comparison, they convert the electricity generated by non-fossil fuels, in terms of the fossil fuel energy that would have been required to produce the  was generated using a conversion efficiency of 40.625%. \n",
    "\n",
    "In other words the electrical component of this of this fossil fuel demand is only 40% of the primary energy figures in the BP data. About 1/3 of primary energy is used to generate electricity. Therefore, nuclear and renewables only need to replace 1/3 * 0.4 + 2/3 = 80% of primary energy supply to meet demand."
   ]
  },
  {
   "cell_type": "code",
   "execution_count": 15,
   "id": "abb40e5e",
   "metadata": {},
   "outputs": [
    {
     "data": {
      "text/latex": [
       "\\[\n",
       "\\begin{aligned}\n",
       "D &= 0.8 \\; \n",
       "\\end{aligned}\n",
       "\\]"
      ],
      "text/plain": [
       "<IPython.core.display.Latex object>"
      ]
     },
     "metadata": {},
     "output_type": "display_data"
    }
   ],
   "source": [
    "%%render 1\n",
    "D = 0.8"
   ]
  },
  {
   "attachments": {},
   "cell_type": "markdown",
   "id": "1d0b3702",
   "metadata": {},
   "source": [
    "### Proportion of Solar\n",
    "\n",
    "Lets assume that solar supplies all our power as many people smart people seem to believe. For example Elon Musk is very bullish on the potential of solar. At [an on-stage conference appearance](https://youtu.be/4caLiMgsub4), he says “you could easily power all of China with solar”, to rapturous applause. Twitter is often swayed by infographics claiming the same. For example: an area of panels the size of [Spain accompanied by the claim](https://twitter.com/waitbutwhy/status/1397698410380251136?s=20), that it could power the world. Elon replied with: ‘Exactly’. Elon Musk used a graphic in his Tesla Power Wall presentation in 2015 in which he showed a tiny blue square, the size of Connecticut intended to represent the area of solar panels to power the entire USA.\n",
    "\n",
    "[This excellent video](https://youtu.be/IZEaYjo4ZJU?t=1002) claims that the area required to power all of the world is close to the size of france (551,695 square km), \n"
   ]
  },
  {
   "cell_type": "code",
   "execution_count": 16,
   "id": "479000a8",
   "metadata": {},
   "outputs": [
    {
     "data": {
      "text/latex": [
       "\\[\n",
       "\\begin{aligned}\n",
       "S &= 1 \\; \n",
       "\\end{aligned}\n",
       "\\]"
      ],
      "text/plain": [
       "<IPython.core.display.Latex object>"
      ]
     },
     "metadata": {},
     "output_type": "display_data"
    }
   ],
   "source": [
    "%%render \n",
    "S = 1"
   ]
  },
  {
   "attachments": {},
   "cell_type": "markdown",
   "id": "f7c46596",
   "metadata": {},
   "source": [
    "<h3 id=\"growth\">Growth in Consumption</h3>\n",
    "\n",
    "Lets make the unrealistic assumption that growth remains constant despite the [certainty](https://ourworldindata.org/worlds-energy-problem) that it will rise. The OECD countries (Europe,  North America, Australia and East Asia) represent around half the world's energy consumption despite possessing less than 1/5 of the population. But the developing world is catching up fast. For the Non-OECD to just to reach the standard of OECD, we will have to triple global energy consumption. Lets assume, miraculously, that it remains constant.\n",
    "\n",
    "<iframe src=\"https://ourworldindata.org/grapher/global-primary-energy\" loading=\"lazy\" style=\"width: 100%; height: 600px; border: 0px none;\"></iframe>"
   ]
  },
  {
   "cell_type": "code",
   "execution_count": 17,
   "id": "3112c560",
   "metadata": {},
   "outputs": [
    {
     "data": {
      "text/latex": [
       "\\[\n",
       "\\begin{aligned}\n",
       "G &= 1 \\;\n",
       "\\end{aligned}\n",
       "\\]"
      ],
      "text/plain": [
       "<IPython.core.display.Latex object>"
      ]
     },
     "metadata": {},
     "output_type": "display_data"
    }
   ],
   "source": [
    "%%render params\n",
    "G = 1 \n"
   ]
  },
  {
   "attachments": {},
   "cell_type": "markdown",
   "id": "8cc35c1d",
   "metadata": {},
   "source": [
    "<h3 id=\"efficiency\">Electrical Efficiency Factor</h3>\n",
    "\n",
    "Electrifying heating and transport can make things more efficient. It important to distinguish this from the fact that most of the fossil fuel energy used to generate electricity is waste heat which we don't need to provide at all - we've already accounted for this;\n",
    "\n",
    "[I delved into the electrification efficiency question separately](https://sebbeck.com/2023/06/20/how-much-energy-will-electrification-save). In summary, according to the most optimistic observers, we can hope to [save 40%](https://www.sciencedirect.com/science/article/pii/S2542435117300120#sec2.4) from:\n",
    "\n",
    ">1. The higher energy-to-work conversion efficiency of using electricity for heating, heat pumps, and electric motors, and using electrolytic hydrogen in hydrogen fuel cells for transportation, compared with using fossil fuels (Table S4);\n",
    ">2. The elimination of energy needed to mine, transport, and refine coal, oil, gas, biofuels, bioenergy, and uranium;\n",
    ">3. Assumed modest additional policy-driven energy-efficiency measures beyond those under BAU.\n",
    ">\n",
    ">These factors decrease average demand ∼23.0%, 12.6%, and 6.9%, respectively, for a total of 42.5%. Thus, WWS not only replaces fossil-fuel electricity directly but is also an energy-efficiency measure, reducing demand.\n",
    "\n",
    "The mental gymnastics involved in getting to this number are great. Notably, the figure of 40% savings ignores the fact that electrifying end-use demand incurs a cost of 4-15% of grid-losses. There are other biases which interfere with this estimate. Therefore, I will estimate 20% savings.\n"
   ]
  },
  {
   "cell_type": "code",
   "execution_count": null,
   "id": "3e0e2050",
   "metadata": {},
   "outputs": [],
   "source": []
  },
  {
   "cell_type": "code",
   "execution_count": null,
   "id": "2d668f5c",
   "metadata": {},
   "outputs": [],
   "source": []
  },
  {
   "cell_type": "code",
   "execution_count": 18,
   "id": "e45bd230",
   "metadata": {},
   "outputs": [
    {
     "data": {
      "text/latex": [
       "\\[\n",
       "\\begin{aligned}\n",
       "R &= 0.8 \\; \n",
       "\\end{aligned}\n",
       "\\]"
      ],
      "text/plain": [
       "<IPython.core.display.Latex object>"
      ]
     },
     "metadata": {},
     "output_type": "display_data"
    }
   ],
   "source": [
    "%%render 1\n",
    "R = 0.8"
   ]
  },
  {
   "attachments": {},
   "cell_type": "markdown",
   "id": "813276aa",
   "metadata": {},
   "source": [
    "<h3 id=\"overbuild\">Overbuild Factor</h3>\n",
    "\n",
    "[Capacity credit](https://www.osti.gov/pages/biblio/1479875), is how much of nameplate capacity can counted on as to reliably serve load at peak demand. Solar without storage has a capacity value of 0 when the peak demand is close to sunset, which it normally is, which makes solar functionally useless without storage.\n",
    "\n",
    "The key problem is storage. The terms \"primary,\" \"secondary,\" and \"tertiary\" are often used to refer to different types of reserve or response services. These are services that [actually exist](https://www.nationalgrideso.com/document/88586/download#:~:text=Secondary%20response%20is%20an%20automatic,primary%20response%20requirement%20is%20higher.):\n",
    "\n",
    "1. Primary Reserve/Response on a second to second basis is regualted by spinning reserves from traditional power plants (i.e., additional capacity from generators that are already connected to the system and spinning but not producing power) \n",
    "2. Secondary Reserve/Response: within 30 seconds, automatic increase in generation (or reduction of demand) when the frequency is below 50Hz.\n",
    "3. Tertiary typically involves bringing new plants online, within an hour or so.\n",
    "\n",
    "But no country has (with the exception of high-hydro penetration countries such as Norway and Brazil) have enough storage to make it through a single night. [I have done calculations](https://sebbeck.com/2023/07/08/false-claims-about-solar-potential) for nightly electricity storage requirements. These are unfeasible in terms of cost (4000x global GDP) for the lithium, lithium reserves (24x times speculated reserves) and lithium production rate (17,000 years to mine the sufficient lithium). We can forget about inter-day storage.\n",
    "\n",
    "Beyond this is seasonal storage. We need seasonal storage in order to not freeze to death in the winter. The United States for example [consumes 52%](https://www.eia.gov/totalenergy/data/monthly/) of its primary energy during the colder half of the year (October to March), but the solar output the US in this period is only [44% of the total.](https://datacatalog.worldbank.org/dataset/global-photovoltaic-power-potential-country)\n",
    "\n",
    "This is a big issue because earlier, we assumed we were only going to build enough solar panels so that our solar energy production matched the energy consumption over the course of the whole year, not each month.\n",
    "\n",
    "At least 6% (1763TWh) of annual energy demand would need to be stored from the summer to be used over the winter (again using Jacobson's optimistic 42.5% electrical efficiency factor). The brand-new battery storage facility in Escondido, California, has a capacity of 120MWh and uses 0.00486km2. We would need 14.7 million of these. In terms of land area this is 267x267km, 71,400km<sup>2</sup>, 0.9% of US lower 48, the size of Ireland.\n",
    "\n",
    "The obvious solution is to this is to increase the solar capacity so that seasonal storage isn't required. The most adverse month December, with a capacity factor of 13% and a supply shortfall 667TWh of solar electricity. Covering this requires the addition of 25000km<sup>2</sup>, 158x158km of solar farmed land.\n",
    "\n",
    "In fact, because of the difficulty of storing electrical energy, most sane plans actually propose an overbuild capacity of 5 to 15 times the annual demand. This is to account for the low capacity value of solar. Capacity value is how much of nameplate capacity can counted on as to reliably serve load at peak demand. For solar, this value is 0% during the colder half of the year because peak demand occurs during darkness.\n",
    "\n",
    "A factor of 5 overbuild for capacity is 840000km2, 917x917km. This is the minimum extent of solar farms required to reduce energy storage to an overnight problem. Not much more can be said here.\n",
    "\n"
   ]
  },
  {
   "cell_type": "code",
   "execution_count": 19,
   "id": "622d01e5",
   "metadata": {},
   "outputs": [
    {
     "data": {
      "text/latex": [
       "\\[\n",
       "\\begin{aligned}\n",
       "O &= 5 \\; \n",
       "\\end{aligned}\n",
       "\\]"
      ],
      "text/plain": [
       "<IPython.core.display.Latex object>"
      ]
     },
     "metadata": {},
     "output_type": "display_data"
    }
   ],
   "source": [
    "%%render 0 \n",
    "O = 5"
   ]
  },
  {
   "attachments": {},
   "cell_type": "markdown",
   "id": "e83564d6",
   "metadata": {},
   "source": [
    "Thus, we end up with the final energy demand of:"
   ]
  },
  {
   "cell_type": "code",
   "execution_count": 20,
   "id": "ca6099a3",
   "metadata": {},
   "outputs": [
    {
     "data": {
      "text/latex": [
       "\\[\n",
       "\\begin{aligned}\n",
       "\\mathrm{EnergyDemand} &= P_{global} \\cdot D \\cdot G \\cdot S \\cdot R \\cdot O  = 18.9\\ \\mathrm{TW} \\cdot 0.8 \\cdot 1 \\cdot 1 \\cdot 0.8 \\cdot 5 &= 60.4\\ \\mathrm{TW}  \n",
       "\\end{aligned}\n",
       "\\]"
      ],
      "text/plain": [
       "<IPython.core.display.Latex object>"
      ]
     },
     "metadata": {},
     "output_type": "display_data"
    }
   ],
   "source": [
    "%%render 1\n",
    "EnergyDemand = P_global * D *G * S * R * O"
   ]
  },
  {
   "attachments": {},
   "cell_type": "markdown",
   "id": "46806fe3",
   "metadata": {},
   "source": [
    "---\n",
    "\n",
    "## Area of Land Required\n",
    "\n",
    "To get the land area required, we just divide the energy consumption by energy production intensity of the land."
   ]
  },
  {
   "cell_type": "code",
   "execution_count": 21,
   "id": "da8c1e4a",
   "metadata": {},
   "outputs": [
    {
     "data": {
      "text/latex": [
       "\\[\n",
       "\\begin{aligned}\n",
       "A_{solar} &= \\frac{ \\mathrm{EnergyDemand} }{ \\mathrm{Production} }  = \\frac{ 60.38\\ \\mathrm{TW} }{ 7.45\\ \\mathrm{W/m²} } &= 8.10\\ \\mathrm{Tm}^{2}  \n",
       "\\end{aligned}\n",
       "\\]"
      ],
      "text/plain": [
       "<IPython.core.display.Latex object>"
      ]
     },
     "metadata": {},
     "output_type": "display_data"
    }
   ],
   "source": [
    "%%render 2\n",
    "A_solar = EnergyDemand / Production \n"
   ]
  },
  {
   "attachments": {},
   "cell_type": "markdown",
   "id": "58963e65",
   "metadata": {},
   "source": [
    "It seems like a lot. But what does it mean in terms of the space we have left on planet earth?"
   ]
  },
  {
   "cell_type": "code",
   "execution_count": 22,
   "id": "0a35954e",
   "metadata": {},
   "outputs": [],
   "source": [
    "A_land = 129949283 * 1000000 * si.m**2 # global ice-free land area"
   ]
  },
  {
   "cell_type": "code",
   "execution_count": 23,
   "id": "db63c721",
   "metadata": {},
   "outputs": [
    {
     "data": {
      "text/latex": [
       "\\[\n",
       "\\begin{aligned}\n",
       "A_{land} &= 129.949\\ \\mathrm{Tm}^{2} \\; \\;\\textrm{(ice free)}\n",
       "\\\\[10pt]\n",
       "\\mathrm{PercentGlobalLandArea} &= \\frac{ A_{solar} }{ A_{land} } \\cdot 100  = \\frac{ 8.103\\ \\mathrm{Tm}^{2} }{ 129.949\\ \\mathrm{Tm}^{2} } \\cdot 100 &= 6.235 \\; \\;\\textrm{(\\% Minimum of Earth's land area required)}\n",
       "\\end{aligned}\n",
       "\\]"
      ],
      "text/plain": [
       "<IPython.core.display.Latex object>"
      ]
     },
     "metadata": {},
     "output_type": "display_data"
    }
   ],
   "source": [
    "%%render\n",
    "A_land # ice free\n",
    "PercentGlobalLandArea = A_solar / A_land * 100 # \\% Minimum of Earth's land area required"
   ]
  },
  {
   "attachments": {},
   "cell_type": "markdown",
   "id": "3e73e595",
   "metadata": {},
   "source": [
    "Therefore a minimum of around a percent of the earth's land area is required to sustain our present energy needs. \n",
    "\n",
    "[Land is primarily used for agriculture](https://ourworldindata.org/land-use). Note how on this diagram, only 1% is 'Urban area and built up land'. Its true that a huge quantity of land is managed for farming. But it is one thing tending to crops and another thing building physical infrastructure.\n",
    "\n",
    "![](https://ourworldindata.org/uploads/2020/01/Global-land-use-graphic-800x511.png)\n",
    "\n",
    "<iframe src=\"https://ourworldindata.org/grapher/land-use-over-the-long-term?time=600..latest&facet=none\" loading=\"lazy\" style=\"width: 100%; height: 600px; border: 0px none;\"></iframe>\n",
    "\n",
    "[A study](https://www.ncbi.nlm.nih.gov/pmc/articles/PMC3841857/) of global inventory of the spatial distribution and density of roads, parking lots, buildings, driveways, sidewalks and other manmade surfaces, which it called 'constructed impervious surface area (ISA)' was published in 2007 by a collaborative team involving US National Geophysical Data Center, NASA and US Department of Energy. It measured the reflectivity of the ground using satellite imagery. The global ISA represents the extant footprint of every structure human civilisation has created. It estimated the ISA to be 579,703 km². An area the size of France."
   ]
  },
  {
   "cell_type": "code",
   "execution_count": 24,
   "id": "afafec60",
   "metadata": {},
   "outputs": [
    {
     "data": {
      "text/latex": [
       "\\[\n",
       "\\begin{aligned}\n",
       "A_{structures} &= 579.7\\ \\mathrm{Gm}^{2} \\; \n",
       "\\\\[10pt]\n",
       "\\mathrm{AllHumanStructures} &= \\frac{ A_{structures} }{ A_{land} } \\cdot 100  = \\frac{ 579.7\\ \\mathrm{Gm}^{2} }{ 129.9\\ \\mathrm{Tm}^{2} } \\cdot 100 &= 0.4 \\; \\;\\textrm{(\\%)}\n",
       "\\end{aligned}\n",
       "\\]"
      ],
      "text/plain": [
       "<IPython.core.display.Latex object>"
      ]
     },
     "metadata": {},
     "output_type": "display_data"
    }
   ],
   "source": [
    "%%render 1\n",
    "A_structures = 579_703 * 1_000_000 * si.m**2\n",
    "AllHumanStructures = A_structures / A_land * 100 # \\%\n"
   ]
  },
  {
   "attachments": {},
   "cell_type": "markdown",
   "id": "be88b271",
   "metadata": {},
   "source": [
    "The solar area is technically the land-use for the entire farm, of which around half to a third depending on access requirements and the need for spacing to overcome self-shading. So the necessary panel area is at a minimum, several times larger than that of existing human structures.\n",
    "\n",
    "The point here is that when we are looking at the feasibility of installing physical infrastructure such as solar panels, the relevant point of comparison it is land occupied by other physical structures. Agricultural land, wild land or forest land is incomparable. So, [this typical article from 'nextenergysolar'](https://www.nextenergysolarfund.com/thought-leadership-white-papers/land-use/) spends thousands of words failing to mention the relevant point.\n",
    "\n",
    "Lets calculate the area required for all nations using the same parameters:"
   ]
  },
  {
   "cell_type": "code",
   "execution_count": 25,
   "id": "babc33bf",
   "metadata": {},
   "outputs": [],
   "source": [
    "# Merge all data together\n",
    "latlon = pd.read_csv(\"country.csv\")\n",
    "isa = pd.read_csv(\"isa.csv\") # from https://www.ncbi.nlm.nih.gov/pmc/articles/PMC3841857/table/t1-sensors-07-01962/?report=objectonly\n",
    "forest = pd.read_csv(\"forest.csv\") # from https://www.gapminder.org/data/ in 2020\n",
    "agri = pd.read_csv(\"agri.csv\") # from https://www.gapminder.org/data/ in 2020\n",
    "rural = pd.read_csv(\"rural.csv\") # from https://www.gapminder.org/data/ # in 2010\n",
    "urban = pd.read_csv(\"urban.csv\") # from https://www.gapminder.org/data/ # in 2010\n",
    "installed = pd.read_csv(\"solar-installed.csv\") # from https://en.wikipedia.org/wiki/Solar_power_by_country, via https://www.irena.org/Publications/2023/Mar/Renewable-capacity-statistics-2023 # in 2023"
   ]
  },
  {
   "cell_type": "code",
   "execution_count": 26,
   "metadata": {},
   "outputs": [],
   "source": [
    "bp_solargis = (latlon\n",
    "               .merge(solargis.drop(\"Country\", axis=1), on='ISO_A3', how=\"left\")\n",
    "               .merge(bp.drop(\"Country\", axis=1), on='ISO_A3', how=\"left\")\n",
    "               .merge(isa.drop(\"Country\", axis=1), on='ISO_A3', how=\"left\")\n",
    "               .merge(forest.drop(\"country\", axis=1), on='ISO_A3', how=\"left\")\n",
    "               .merge(agri.drop(\"country\", axis=1), on='ISO_A3', how=\"left\")\n",
    "               .merge(rural.drop(\"country\", axis=1), on='ISO_A3', how=\"left\")\n",
    "               .merge(urban.drop(\"country\", axis=1), on='ISO_A3', how=\"left\")\n",
    "               .merge(installed.drop(\"country\", axis=1), on='ISO_A3', how=\"left\")\n",
    "               \n",
    ")\n",
    "bp_solargis.to_json(\"bp_solargis.json\", orient=\"records\")\n",
    "\n"
   ]
  },
  {
   "cell_type": "code",
   "execution_count": 30,
   "id": "7c1f6a55",
   "metadata": {},
   "outputs": [
    {
     "data": {
      "text/html": [
       "<div>\n",
       "<style scoped>\n",
       "    .dataframe tbody tr th:only-of-type {\n",
       "        vertical-align: middle;\n",
       "    }\n",
       "\n",
       "    .dataframe tbody tr th {\n",
       "        vertical-align: top;\n",
       "    }\n",
       "\n",
       "    .dataframe thead th {\n",
       "        text-align: right;\n",
       "    }\n",
       "</style>\n",
       "<table border=\"1\" class=\"dataframe\">\n",
       "  <thead>\n",
       "    <tr style=\"text-align: right;\">\n",
       "      <th></th>\n",
       "      <th>Land Required by Solar Farms [%]</th>\n",
       "    </tr>\n",
       "    <tr>\n",
       "      <th>Country</th>\n",
       "      <th></th>\n",
       "    </tr>\n",
       "  </thead>\n",
       "  <tbody>\n",
       "    <tr>\n",
       "      <th>Singapore</th>\n",
       "      <td>9390.3</td>\n",
       "    </tr>\n",
       "    <tr>\n",
       "      <th>Hong Kong</th>\n",
       "      <td>1743.5</td>\n",
       "    </tr>\n",
       "    <tr>\n",
       "      <th>Netherlands</th>\n",
       "      <td>246.2</td>\n",
       "    </tr>\n",
       "    <tr>\n",
       "      <th>Korea, Republic of</th>\n",
       "      <td>231.2</td>\n",
       "    </tr>\n",
       "    <tr>\n",
       "      <th>Qatar</th>\n",
       "      <td>230.9</td>\n",
       "    </tr>\n",
       "    <tr>\n",
       "      <th>...</th>\n",
       "      <td>...</td>\n",
       "    </tr>\n",
       "    <tr>\n",
       "      <th>Kazakhstan</th>\n",
       "      <td>2.0</td>\n",
       "    </tr>\n",
       "    <tr>\n",
       "      <th>Argentina</th>\n",
       "      <td>1.9</td>\n",
       "    </tr>\n",
       "    <tr>\n",
       "      <th>Algeria</th>\n",
       "      <td>1.4</td>\n",
       "    </tr>\n",
       "    <tr>\n",
       "      <th>Peru</th>\n",
       "      <td>1.3</td>\n",
       "    </tr>\n",
       "    <tr>\n",
       "      <th>Australia</th>\n",
       "      <td>1.1</td>\n",
       "    </tr>\n",
       "  </tbody>\n",
       "</table>\n",
       "<p>76 rows × 1 columns</p>\n",
       "</div>"
      ],
      "text/plain": [
       "                    Land Required by Solar Farms [%]\n",
       "Country                                             \n",
       "Singapore                                     9390.3\n",
       "Hong Kong                                     1743.5\n",
       "Netherlands                                    246.2\n",
       "Korea, Republic of                             231.2\n",
       "Qatar                                          230.9\n",
       "...                                              ...\n",
       "Kazakhstan                                       2.0\n",
       "Argentina                                        1.9\n",
       "Algeria                                          1.4\n",
       "Peru                                             1.3\n",
       "Australia                                        1.1\n",
       "\n",
       "[76 rows x 1 columns]"
      ]
     },
     "execution_count": 30,
     "metadata": {},
     "output_type": "execute_result"
    }
   ],
   "source": [
    "# calculate the area for all countries\n",
    "def getsolararea(P, C_f,S,R,C,O,G,E):\n",
    "    A_solar = P * G * S*R *O / ( C_f *C * E) # m**2 \n",
    "    return A_solar\n",
    "\n",
    "def getsolarradius(**kwargs):\n",
    "    A_solar = getsolararea(**kwargs)\n",
    "    r_solar = sqrt(A_solar/pi)\n",
    "    return r_solar\n",
    "\n",
    "farms = bp_solargis.copy()\n",
    "farms[\"farm_area_m2\"] = getsolararea(P=farms[\"primary_w\"], C_f=farms[\"capacity_factor\"], S=S,R=R, C=C.value, O = O,G = G, E = E )\n",
    "farms[\"farm_radius_m\"] = getsolarradius(P=farms[\"primary_w\"],C_f=farms[\"capacity_factor\"], S=S,R=R, C=C.value, O = O,G = G, E = E )\n",
    "farms[\"farm_fraction\"] = farms[\"farm_area_m2\"] / farms[\"country_area_m2\"]\n",
    "# farms.sort_values(\"farm_fraction\", ascending=False)\n",
    "\n",
    "pd.set_option(\"display.precision\", 3)\n",
    "pd.set_option('display.float_format', '{:.1f}'.format)\n",
    "(farms[[\"Country\",\"farm_fraction\"]]\n",
    " .sort_values(\"farm_fraction\", ascending=False)\n",
    " .set_index(\"Country\")\n",
    " .dropna(how=\"any\")\n",
    " .rename(columns={\"farm_fraction\":\"Land Required by Solar Farms [%]\"}) * 100\n",
    ")"
   ]
  },
  {
   "attachments": {},
   "cell_type": "markdown",
   "id": "244ee73e",
   "metadata": {},
   "source": [
    "It actually doesn't look so bad for many of the less densely populated, sunnier countries. The problem is in europe in particular, the place that seems most interested by solar power.\n",
    "\n",
    "<div   style=\"position: relative; width: 100%; height: 0; padding-bottom: 100%\">\n",
    "    <iframe style=\"position: absolute;top: 0;left: 0;width: 100%;height: 100%;\" src=\"/2023/07/04/solar-farm-map.html\"></iframe>\n",
    "</div>\n"
   ]
  },
  {
   "cell_type": "code",
   "execution_count": null,
   "id": "4a35856f",
   "metadata": {},
   "outputs": [],
   "source": [
    "# import ipywidgets as widgets\n",
    "# from IPython.display import display\n",
    "# import folium\n",
    "\n",
    "# # Define function that generates a map\n",
    "# def generate_map(df):\n",
    "#     m = folium.Map(location=[50, 5], zoom_start=5)\n",
    "#     data = [tuple(x) for x in zip(df['lat'], df['lon'], df['farm_radius_m'], df[\"farm_fraction\"])]\n",
    "#     for lat, lon, radius, fraction in data:\n",
    "#         label = f'Percent land: { fraction:,.0%}, Radius: {radius/1000:.0f} km'\n",
    "#         folium.Circle(\n",
    "#             location=[lat, lon],\n",
    "#             radius=radius,\n",
    "#             color=\"blue\",\n",
    "#             fill=True,\n",
    "#             fill_color=\"blue\",\n",
    "#             popup=folium.Popup(label)\n",
    "#         ).add_to(m)\n",
    "#     display(m)\n",
    "\n",
    "\n",
    "# generate_map(farms)"
   ]
  },
  {
   "attachments": {},
   "cell_type": "markdown",
   "id": "42e9ca90",
   "metadata": {},
   "source": [
    "---"
   ]
  },
  {
   "attachments": {},
   "cell_type": "markdown",
   "id": "01c62c30",
   "metadata": {},
   "source": [
    "# Footnotes\n",
    "\n",
    "### Solargis - Average practical potential\n",
    "\n",
    "Average practical potential kWh<sub>output</sub> · day<sup>-1</sup> · kW<sup>-1</sup><sub>capacity</sub> is actually just capacity factor times 24.\n",
    "\n",
    "For example, a solar farm with a  kWh<sub>output</sub> · day<sup>-1</sup> · kW<sup>-1</sup><sub>capacity</sub> means it produces 1 kWh per day, for each 1 kW of capacity"
   ]
  },
  {
   "attachments": {},
   "cell_type": "markdown",
   "id": "b5b2efb0",
   "metadata": {},
   "source": [
    "### Primary Energy\n",
    "\n",
    "BP is the source for present and historic consumption used by [Our World in Data](https://ourworldindata.org/energy-production-consumption#how-much-energy-does-the-world-consume). \n",
    "\n",
    "[Gap-Minder](https://www.gapminder.org/data/) still quotes the World Bank estimates of primary energy even though this is no-longer available.\n",
    "\n",
    "The definition of Primary energy is the:\n",
    "- total chemical energy in the fossil fuels burned that year, \n",
    "- plus the the equivalent amount of fossil fuel input required  \n",
    "to generate electricity produced by non-fossil sources in a fossil fuel power plant assuming 40.625% efficiency.\n",
    "- plus an estimate of the biomass chemical energy burned from the supply of electricity using biomass assuming 32% efficiency.\n",
    "\n",
    "> Traditionally, in bp’s Statistical Review of World Energy, the primary energy of non-fossil based electricity (nuclear, hydro, wind, solar, geothermal, biomass in power and other renewables sources) has been calculated on an ‘input-equivalent’ basis – i.e. based on the equivalent amount of fossil fuel input required to generate that amount of electricity in a standard thermal power plant.\n",
    "\n",
    "For non-fossil electricity (excluding biomass-powered electricity)\n",
    "\n",
    "> 2018 onwards: the annual rate of efficiency improvement is based on the simplified assumption that efficiency will increase linearly [from 40%] to 45% by 2050. [I.e. it is assumed as 40.625% in 2022]\n",
    "\n",
    "For Bio-mass plants:\n",
    "\n",
    "> In this edition, we assume a constant efficiency of 32% for biomass power to better reflect the actual efficiency of  biomass power plants."
   ]
  },
  {
   "cell_type": "code",
   "execution_count": null,
   "id": "7a5a6789",
   "metadata": {},
   "outputs": [],
   "source": [
    "# ## slider-based interactive map\n",
    "\n",
    "# df = farms.copy()\n",
    "# df[\"unscaled_farm_radius_m\"] = getsolarradius(P=bp_solargis[\"primary_w\"],C_f=bp_solargis[\"capacity_factor\"], S=1,R=1, C=1, O = 1,G = 1, E = 1, M = 1  )\n",
    "\n",
    "\n",
    "# # Define function that generates a map\n",
    "\n",
    "\n",
    "# def generate_scaled_map(df, R , O , S, G, C ,E, M):\n",
    "#     scale_factor = getsolarradius(P=1, C_f=1, R=R , O=O , S=S, G=G, C=C ,E=E, M=M)\n",
    "#     print(scale_factor)\n",
    "#     df[\"farm_radius_m\"] = scale_factor * df[\"unscaled_farm_radius_m\"]\n",
    "#     m = folium.Map(location=[50, 5], zoom_start=5)\n",
    "#     data = [tuple(x) for x in zip(df['lat'], df['lon'], df['farm_radius_m'])]\n",
    "#     for lat, lon, radius in data:\n",
    "#         label = f'Radius: {radius}'\n",
    "#         folium.Circle(\n",
    "#             location=[lat, lon],\n",
    "#             radius=radius,\n",
    "#             color=\"blue\",\n",
    "#             fill=True,\n",
    "#             fill_color=\"blue\",\n",
    "#             popup=folium.Popup(label)\n",
    "#         ).add_to(m)\n",
    "#     display(m)\n",
    "\n",
    "\n",
    "# RANGE = 2\n",
    "# # Create widgets\n",
    "# electrification = widgets.FloatSlider(min=R/RANGE, max=R*RANGE, value=R, step=R*0.1, description='R, Electrification')\n",
    "# overbuild = widgets.FloatSlider(min=O/RANGE, max=O*RANGE, value=O, step=O*0.1, description='O, Overbuild:')\n",
    "# solar_proportion = widgets.FloatSlider(min=S/RANGE, max=S*RANGE, value=S, step=S*0.1, description='S, Solar Proportion:')\n",
    "# growth = widgets.FloatSlider(min=G/RANGE, max=G*RANGE, value=G, step=G*0.1, description='G, Growth in demand:')\n",
    "# installed_capacity = widgets.FloatSlider(min=C/RANGE, max=C*RANGE, value=C, step=C*0.1, description='C, Installed capacity:')\n",
    "# embodied_energy = widgets.FloatSlider(min=E/RANGE, max=E*RANGE, value=E, step=E*0.1, description='E, Embodied:')\n",
    "# maintenance_energy = widgets.FloatSlider(min=M/RANGE, max=M*RANGE, value=M, step=M*0.1, description='M, Maintenance:')\n",
    "\n",
    "# # Use the interact function to automatically create the UI\n",
    "# widget = widgets.interactive(generate_scaled_map, df=widgets.fixed(df), R=electrification , O=overbuild , S=solar_proportion, G=growth,C=installed_capacity ,E=embodied_energy, M=maintenance_energy)\n",
    "\n",
    "# # Display the widget\n",
    "# display(widget)"
   ]
  }
 ],
 "metadata": {
  "kernelspec": {
   "display_name": "calcs",
   "language": "python",
   "name": "python3"
  },
  "language_info": {
   "codemirror_mode": {
    "name": "ipython",
    "version": 3
   },
   "file_extension": ".py",
   "mimetype": "text/x-python",
   "name": "python",
   "nbconvert_exporter": "python",
   "pygments_lexer": "ipython3",
   "version": "3.11.3"
  }
 },
 "nbformat": 4,
 "nbformat_minor": 5
}
