{
 "cells": [
  {
   "attachments": {},
   "cell_type": "markdown",
   "id": "f54be0fe",
   "metadata": {},
   "source": [
    "Download Jupyter Notebook File: [ipynb File](/notebooks/2023-07-08-false-claims-about-solar-potential.ipynb)"
   ]
  },
  {
   "cell_type": "code",
   "execution_count": 1,
   "id": "8b3dded4",
   "metadata": {},
   "outputs": [],
   "source": [
    "import handcalcs.render\n",
    "import pandas as pd\n",
    "import forallpeople as si\n",
    "# try:\n",
    "si.environment('energy_custom')\n",
    "# kg m s A cd K mol"
   ]
  },
  {
   "attachments": {},
   "cell_type": "markdown",
   "id": "a08d0970-e1bf-44e6-9cd0-836d94a4ab23",
   "metadata": {},
   "source": [
    "## [PV-magazine](https://www.pv-magazine.com/2023/03/23/assessing-the-area-intensity-of-pv/) \"Assessing the area intensity of PV\"\n",
    "\n",
    ">Typically, developed countries such as the United States, Australia and Singapore consume about 10 MWh of electricity per person per annum. This will need to double to accommodate the electrification of transport, heating, and industry. Assuming 22% efficient panels and a DC capacity factor of 17% (averaged across rooftop solar and solar farms), we arrive at a figure of 13 kW per person occupying 60 m<sup>2</sup>.\n",
    "\n",
    "They do not state _how_ they arrived at that figure. They missed out the figure of __capacity per unit panel area__ which is normally [150Wp/m²](http://www.solarelectricuk.com/datasheets/Glass-Model-STKP-72-310-Polycrystalline-Cell-Module.pdf). The convention is to use 'Wp' for watts, with the 'p' standing for 'peak'. Trying to replicate their calculations.\n"
   ]
  },
  {
   "cell_type": "code",
   "execution_count": 2,
   "id": "3bb92239",
   "metadata": {},
   "outputs": [],
   "source": [
    "hours = 24 * si.hour\n",
    "Wh = si.Wh\n",
    "kWh = si.Wh * 1e3\n",
    "MWh = si.Wh * 1e6\n",
    "hr = si.hour\n",
    "day = si.day\n",
    "sec = si.s\n",
    "year = si.year\n",
    "W = si.W\n",
    "kW = si.W * 1e3\n",
    "TW = si.W * 1e12\n",
    "TWh = si.Wh * 1e12\n",
    "kg = si.kg\n",
    "tonne = si.kg * 1000\n",
    "DCPower = 13e3 * W\n",
    "A = 60 * si.m**2\n",
    "Efficiency = 0.22\n",
    "LUE = 150 * W /si.m**2\n",
    "C_f = 0.17\n",
    "\n",
    "PVMagazinePrediciton = 13 *kW"
   ]
  },
  {
   "cell_type": "code",
   "execution_count": 3,
   "id": "dcb281ee",
   "metadata": {},
   "outputs": [
    {
     "data": {
      "text/latex": [
       "\\[\n",
       "\\begin{aligned}\n",
       "\\mathrm{ActualPower} &= A \\cdot \\mathrm{LUE} \\cdot \\mathrm{Efficiency} \\cdot C_{f}  = 60.00\\ \\mathrm{m}^{2} \\cdot 150.00\\ \\mathrm{W/m²} \\cdot 0.22 \\cdot 0.17 &= 336.60\\ \\mathrm{W}  \n",
       "\\end{aligned}\n",
       "\\]"
      ],
      "text/plain": [
       "<IPython.core.display.Latex object>"
      ]
     },
     "metadata": {},
     "output_type": "display_data"
    }
   ],
   "source": [
    "%%render  2\n",
    "\n",
    "ActualPower = A  * LUE * Efficiency  * C_f\n"
   ]
  },
  {
   "cell_type": "code",
   "execution_count": 4,
   "id": "11f77072",
   "metadata": {},
   "outputs": [
    {
     "data": {
      "text/latex": [
       "\\[\n",
       "\\begin{aligned}\n",
       "\\mathrm{Error} &= \\frac{ \\mathrm{PVMagazinePrediciton} }{ \\mathrm{ActualPower} }  = \\frac{ 13\\ \\mathrm{kW} }{ 337\\ \\mathrm{W} } &= 39  \n",
       "\\end{aligned}\n",
       "\\]"
      ],
      "text/plain": [
       "<IPython.core.display.Latex object>"
      ]
     },
     "metadata": {},
     "output_type": "display_data"
    }
   ],
   "source": [
    "%%render 0\n",
    "Error = PVMagazinePrediciton / ActualPower"
   ]
  },
  {
   "attachments": {},
   "cell_type": "markdown",
   "id": "e84a8ebe",
   "metadata": {},
   "source": [
    "\n",
    "Their numbers, are wrong by a factor of 39. And even if it were right, it misses a number of confounding inefficiencies. Much is bound up into the capacity factor, and it has to account to everything."
   ]
  },
  {
   "attachments": {},
   "cell_type": "markdown",
   "id": "49c781a0",
   "metadata": {},
   "source": [
    "Now we have seen the wrong way to do it, lets find a better way."
   ]
  },
  {
   "attachments": {},
   "cell_type": "markdown",
   "id": "d475f08b",
   "metadata": {},
   "source": [
    "## [Joule  Volume 5, Issue 5:](https://doi.org/10.1016/j.joule.2021.03.005) 'Solar photovoltaics is ready to power a sustainable future'\n",
    "\n",
    "This one was published in a scientific journal. PV magazine managed to milk this one, with a couple of separate articles all refering back to the source study:\n",
    "\n",
    "- [pv magazine:\"Solar may cover the world’s electricity demand with 0.3% of its land area\"](https://www.pv-magazine.com/2023/02/01/solar-may-cover-the-worlds-electricity-demand-with-0-3-of-its-land-area/) \n",
    "- [pv magazine: \"Solar still largely underestimated\"](https://www.pv-magazine.com/2021/03/31/solar-still-largely-underestimated/)\n",
    "\n",
    "One claim, which does not make it into the summary (there is no abstract), but which is rather striking is:\n",
    "\n",
    "> \"Supplying the current global electricity consumption with solar PV would imply covering 0.3% of the land area of the world\"\n",
    "\n",
    "\n",
    "In getting to that they claim, in ['supplemental notes 3'](https://www.cell.com/cms/10.1016/j.joule.2021.03.005/attachment/c2b79392-88f9-4231-833d-faf1a0a2a125/mmc1.pdf) an optimistic but feasible '[installed capacity](https://sebbeck.com/2023/06/13/solar-land-area#installed)', a.k.a. land use efficiency of 51W/m²:\n",
    "\n",
    ">\"Assuming 17% efficiency and that only 30% of the land is covered by solar panels in large-scale installations, the capacity density results in 51 W/m2, which is in agreement with values reported in [2013 NREL study called \"Land-use requirements for solar power plants in the United States\"](https://www.nrel.gov/docs/fy13osti/56290.pdf)\n",
    "\n",
    "Although the number is in the bounds of the reasonable, it is technically wrong on two counts. Firstly, it isn't possible to conclude installed capacity from efficiency and land coverage factor of panels. Secondly, the reference states a range of capacity densities for PV panels from as low as 26 W/m² for 1MW farms with 2-axis movement panels up to 43W/m² for >20MW farms with fixed panels. Not 51W/m².\n",
    "\n",
    "\n",
    "\n"
   ]
  },
  {
   "cell_type": "code",
   "execution_count": 5,
   "id": "4ec1f237",
   "metadata": {},
   "outputs": [],
   "source": [
    "from pint import UnitRegistry, set_application_registry\n",
    "\n",
    "u = UnitRegistry()\n",
    "set_application_registry(u)\n",
    "u.default_format = '~'\n",
    "u.define(\"USD = [money]\")  \n"
   ]
  },
  {
   "cell_type": "code",
   "execution_count": 6,
   "id": "12ab3f7b",
   "metadata": {},
   "outputs": [
    {
     "data": {
      "text/latex": [
       "\\[\n",
       "\\begin{aligned}\n",
       "\\mathrm{LUE} &= 51.000\\ \\frac{\\mathrm{watt}}{\\mathrm{meter}^{2}} \\;\n",
       "\\end{aligned}\n",
       "\\]"
      ],
      "text/plain": [
       "<IPython.core.display.Latex object>"
      ]
     },
     "metadata": {},
     "output_type": "display_data"
    }
   ],
   "source": [
    "%%render params\n",
    "LUE = 51 * u.W / u.m**2\n"
   ]
  },
  {
   "attachments": {},
   "cell_type": "markdown",
   "id": "3b812e3b",
   "metadata": {},
   "source": [
    "I'll convert the obfuscating figure of 1370 kWh/kW into capacity factor by dividing by 24:"
   ]
  },
  {
   "cell_type": "code",
   "execution_count": 7,
   "id": "b338c089",
   "metadata": {},
   "outputs": [
    {
     "data": {
      "text/latex": [
       "\\[\n",
       "\\begin{aligned}\n",
       "C_{f} &= 0.156\\ dimensionless \\;\n",
       "\\end{aligned}\n",
       "\\]"
      ],
      "text/plain": [
       "<IPython.core.display.Latex object>"
      ]
     },
     "metadata": {},
     "output_type": "display_data"
    }
   ],
   "source": [
    "%%render params\n",
    "C_f =  (1370 * u.kWh/u.kW/ (24 * 365.25 * u.h)).to_base_units()\n"
   ]
  },
  {
   "cell_type": "code",
   "execution_count": 8,
   "id": "b2d8177e",
   "metadata": {},
   "outputs": [
    {
     "data": {
      "text/latex": [
       "\\[\n",
       "\\begin{aligned}\n",
       "P_{solar} &= \\mathrm{LUE} \\cdot C_{f}  = 51.000\\ \\frac{\\mathrm{watt}}{\\mathrm{meter}^{2}} \\cdot 0.156\\ dimensionless &= 7.971\\ \\frac{\\mathrm{watt}}{\\mathrm{meter}^{2}}  \n",
       "\\end{aligned}\n",
       "\\]"
      ],
      "text/plain": [
       "<IPython.core.display.Latex object>"
      ]
     },
     "metadata": {},
     "output_type": "display_data"
    }
   ],
   "source": [
    "%%render\n",
    "P_solar = LUE * C_f\n"
   ]
  },
  {
   "attachments": {},
   "cell_type": "markdown",
   "id": "f019b455",
   "metadata": {},
   "source": [
    "Now to get land requirements:"
   ]
  },
  {
   "cell_type": "code",
   "execution_count": 9,
   "id": "65cecdaa",
   "metadata": {},
   "outputs": [],
   "source": [
    "E = 27000 * u.TWh\n",
    "year  = u.year"
   ]
  },
  {
   "cell_type": "code",
   "execution_count": 10,
   "id": "60299540",
   "metadata": {},
   "outputs": [
    {
     "data": {
      "text/latex": [
       "\\[\n",
       "\\begin{aligned}\n",
       "P &= \\left( \\frac{ E }{ \\mathrm{year} } \\right)  = \\left( \\frac{ 27000.0\\ \\mathrm{terawatt\\_hour} }{ \\mathrm{year} } \\right) &= 3.1\\ \\mathrm{terawatt}  \n",
       "\\end{aligned}\n",
       "\\]"
      ],
      "text/plain": [
       "<IPython.core.display.Latex object>"
      ]
     },
     "metadata": {},
     "output_type": "display_data"
    }
   ],
   "source": [
    "%%render  1\n",
    "\n",
    "P = (E /year).to(u.TW)\n"
   ]
  },
  {
   "cell_type": "code",
   "execution_count": 11,
   "id": "5fd13f42",
   "metadata": {},
   "outputs": [],
   "source": [
    "A_world = (13003e6 * u.ha).to(u.Mm**2)"
   ]
  },
  {
   "cell_type": "code",
   "execution_count": 12,
   "id": "eaf3d628",
   "metadata": {},
   "outputs": [
    {
     "data": {
      "text/latex": [
       "\\[\n",
       "\\begin{aligned}\n",
       "A_{solar} &= \\left( \\frac{ P }{ P_{solar} } \\right)  = \\left( \\frac{ 3.080\\ \\mathrm{terawatt} }{ 7.971\\ \\frac{\\mathrm{watt}}{\\mathrm{meter}^{2}} } \\right) &= 0.386\\ \\mathrm{megameter}^{2}  \n",
       "\\\\[10pt]\n",
       "\\mathrm{LandPercent} &= 100 \\cdot \\frac{ A_{solar} }{ A_{world} }  = 100 \\cdot \\frac{ 0.386\\ \\mathrm{megameter}^{2} }{ 130.030\\ \\mathrm{megameter}^{2} } &= 0.297\\ dimensionless \\; \\;\\textrm{(\\%)}\n",
       "\\end{aligned}\n",
       "\\]"
      ],
      "text/plain": [
       "<IPython.core.display.Latex object>"
      ]
     },
     "metadata": {},
     "output_type": "display_data"
    }
   ],
   "source": [
    "%%render\n",
    "A_solar = (P / P_solar).to(u.Mm**2)\n",
    "LandPercent = 100 * A_solar / A_world #\\%"
   ]
  },
  {
   "attachments": {},
   "cell_type": "markdown",
   "id": "37d3f53f",
   "metadata": {},
   "source": [
    "The literal claim is true. However, repeating this without any context is irresponsible and wrong in the technical sense. A grid reliant on a randomly variable, weather-dependant resource, is useless without energy storage. These are the only times energy storage is mentioned:\n",
    "\n",
    "> For higher penetrations, short-term storage with high-efficiency, i.e., electric batteries, pumped hydro storage (PHS),99 and demand-side management contribute to energy arbitrage to ease the intraday balancing of solar PV-.100\n",
    "\n",
    "> The short-term storage provided by EV batteries synergizes with PV, easing the daily balancing of solar generation,112 in particular when demand-side management and vehicle-to-grid capabilities are assumed for EVs.\n",
    "\n",
    "> As solar becomes cheaper, it begins to compete with gas and coal for industrial heating through the use of high-efficiency electric furnaces. This can be coupled with low-cost on-site thermal storage in water, hot rocks, molten salts, molten silicon, and other materials to take advantage of low-cost daytime solar electricity.\n",
    "\n",
    "Notice how no numbers are applied to establish energy storage requirements. Lets run the number just to remind ourselves. Lets pick a [random location](https://globalsolaratlas.info/detail?c=16.972741,-55.371094,3&s=28.921631,-96.679688&m=site), in Texas. I picked somewhere near the equator where the intra-day storage problem is lowest.\n",
    "\n",
    "![](/notebooks/texas-solar.png)\n",
    "\n",
    "\n",
    "Naturally the daily power-profiles reflect the presence of the sun...\n",
    "![](/notebooks/texas-power.jpg)"
   ]
  },
  {
   "attachments": {},
   "cell_type": "markdown",
   "id": "6edd1be2",
   "metadata": {},
   "source": [
    "Now, lets look at the electrical consumption profile of texas on a [random day](https://www.eia.gov/electricity/gridmonitor/dashboard/custom/pending). I've extracted the data [in this CSV](/notebooks/texas-power.csv)\n",
    "\n",
    "![](/notebooks/day-vs-night.svg)\n",
    "\n",
    "Almost half of consumption occurs during the night. So, using the ball park numbers..."
   ]
  },
  {
   "cell_type": "code",
   "execution_count": 13,
   "id": "8352c78f",
   "metadata": {},
   "outputs": [
    {
     "data": {
      "text/latex": [
       "\\[\n",
       "\\begin{aligned}\n",
       "E_{nightly} &= 12960.000\\ \\mathrm{terawatt\\_hour} \\;\n",
       "\\end{aligned}\n",
       "\\]"
      ],
      "text/plain": [
       "<IPython.core.display.Latex object>"
      ]
     },
     "metadata": {},
     "output_type": "display_data"
    }
   ],
   "source": [
    "%%render params \n",
    "E_nightly = E * 0.48\n"
   ]
  },
  {
   "attachments": {},
   "cell_type": "markdown",
   "id": "9ebbf4ef",
   "metadata": {},
   "source": [
    "The most authorative source I could find for the lithium content was a [LinkedIn](https://www.fedex.com/content/dam/fedex/us-united-states/services/LithiumBattery_JobAid.pdf) article:\n"
   ]
  },
  {
   "cell_type": "code",
   "execution_count": 14,
   "id": "97928cc8",
   "metadata": {},
   "outputs": [
    {
     "data": {
      "text/latex": [
       "\\[\n",
       "\\begin{aligned}\n",
       "M_{LithiumContent} &= 0.167\\ \\frac{\\mathrm{kilogram}}{\\mathrm{kilowatt\\_hour}} \\;\n",
       "\\end{aligned}\n",
       "\\]"
      ],
      "text/plain": [
       "<IPython.core.display.Latex object>"
      ]
     },
     "metadata": {},
     "output_type": "display_data"
    }
   ],
   "source": [
    "%%render params\n",
    "M_LithiumContent = 0.167* u.kg/u.kWh\n",
    "\n"
   ]
  },
  {
   "attachments": {},
   "cell_type": "markdown",
   "id": "db42f3b4",
   "metadata": {},
   "source": [
    "So the mass of lithium required to get us enough battery storage to make it through one medium length equatorial night is..."
   ]
  },
  {
   "cell_type": "code",
   "execution_count": 15,
   "id": "d76453ea",
   "metadata": {},
   "outputs": [
    {
     "data": {
      "text/latex": [
       "\\[\n",
       "\\begin{aligned}\n",
       "M_{LithiumStorage} &= \\left( E_{nightly} \\cdot M_{LithiumContent} \\right) \\\\&= \\left( 12960.000\\ \\mathrm{terawatt\\_hour} \\cdot 0.167\\ \\frac{\\mathrm{kilogram}}{\\mathrm{kilowatt\\_hour}} \\right) \\\\&= 2.164\\ \\mathrm{gigametric\\_ton}  \\\\[10pt]\n",
       "\\end{aligned}\n",
       "\\]"
      ],
      "text/plain": [
       "<IPython.core.display.Latex object>"
      ]
     },
     "metadata": {},
     "output_type": "display_data"
    }
   ],
   "source": [
    "%%render\n",
    "M_LithiumStorage = (E_nightly * M_LithiumContent).to(u.Gt)\n",
    "\n"
   ]
  },
  {
   "attachments": {},
   "cell_type": "markdown",
   "id": "a1d5f33c",
   "metadata": {},
   "source": [
    "According to the [Canadian government](https://natural-resources.canada.ca/our-natural-resources/minerals-mining/minerals-metals-facts/lithium-facts/24009):\n",
    "\n",
    "> More than half of the estimated global lithium resources are located in the salt flats of Bolivia, Chile and Argentina, much of that in Bolivia. It is estimated that there are 89 million tonnes of lithium resources globally.\n",
    "\n",
    "\n",
    "\n",
    "[USGS estimates the 'reserves'](https://www.usgs.gov/centers/national-minerals-information-center/lithium-statistics-and-information) in PDF documents.  Some of the [the raw data is here.](https://www.sciencebase.gov/catalog/item/63d1a467d34e06fef150071d). I have had to manually compile it into the below table. The mine production reports for a given tend to grow year on year, presumably as more data comes in, so take the production column with a hint of salt.\n",
    "\n"
   ]
  },
  {
   "cell_type": "code",
   "execution_count": 16,
   "id": "afd8c4b1",
   "metadata": {},
   "outputs": [
    {
     "data": {
      "text/html": [
       "<div>\n",
       "<style scoped>\n",
       "    .dataframe tbody tr th:only-of-type {\n",
       "        vertical-align: middle;\n",
       "    }\n",
       "\n",
       "    .dataframe tbody tr th {\n",
       "        vertical-align: top;\n",
       "    }\n",
       "\n",
       "    .dataframe thead th {\n",
       "        text-align: right;\n",
       "    }\n",
       "</style>\n",
       "<table border=\"1\" class=\"dataframe\">\n",
       "  <thead>\n",
       "    <tr style=\"text-align: right;\">\n",
       "      <th></th>\n",
       "      <th>Year</th>\n",
       "      <th>Lithium Carbonate USD/Tonne</th>\n",
       "      <th>Reserves  tonnes</th>\n",
       "      <th>Mine Production tonnes</th>\n",
       "    </tr>\n",
       "  </thead>\n",
       "  <tbody>\n",
       "    <tr>\n",
       "      <th>0</th>\n",
       "      <td>2018</td>\n",
       "      <td>16000</td>\n",
       "      <td>16000000.0</td>\n",
       "      <td>95000</td>\n",
       "    </tr>\n",
       "    <tr>\n",
       "      <th>1</th>\n",
       "      <td>2019</td>\n",
       "      <td>11700</td>\n",
       "      <td>14000000.0</td>\n",
       "      <td>77000</td>\n",
       "    </tr>\n",
       "    <tr>\n",
       "      <th>2</th>\n",
       "      <td>2020</td>\n",
       "      <td>8400</td>\n",
       "      <td>17000000.0</td>\n",
       "      <td>82500</td>\n",
       "    </tr>\n",
       "    <tr>\n",
       "      <th>3</th>\n",
       "      <td>2021</td>\n",
       "      <td>12600</td>\n",
       "      <td>21000000.0</td>\n",
       "      <td>100000</td>\n",
       "    </tr>\n",
       "    <tr>\n",
       "      <th>4</th>\n",
       "      <td>2022</td>\n",
       "      <td>37000</td>\n",
       "      <td>22000000.0</td>\n",
       "      <td>130000</td>\n",
       "    </tr>\n",
       "    <tr>\n",
       "      <th>5</th>\n",
       "      <td>2023</td>\n",
       "      <td>?</td>\n",
       "      <td>26000000.0</td>\n",
       "      <td>?</td>\n",
       "    </tr>\n",
       "  </tbody>\n",
       "</table>\n",
       "</div>"
      ],
      "text/plain": [
       "   Year Lithium Carbonate USD/Tonne  Reserves  tonnes Mine Production tonnes\n",
       "0  2018                       16000        16000000.0                  95000\n",
       "1  2019                       11700        14000000.0                  77000\n",
       "2  2020                        8400        17000000.0                  82500\n",
       "3  2021                       12600        21000000.0                 100000\n",
       "4  2022                       37000        22000000.0                 130000\n",
       "5  2023                           ?        26000000.0                      ?"
      ]
     },
     "execution_count": 16,
     "metadata": {},
     "output_type": "execute_result"
    }
   ],
   "source": [
    "df = pd.read_csv(\"lithium.csv\")\n",
    "df"
   ]
  },
  {
   "attachments": {},
   "cell_type": "markdown",
   "id": "ddce8bfa",
   "metadata": {},
   "source": [
    "USGS defines reserves as:\n",
    "\n",
    "> Reserves.—That part of the reserve base which could be economically extracted or produced at the time of determination. The term reserves need not signify that extraction facilities are in place and operative. Reserves include only recoverable materials; thus, terms such as “extractable reserves” and “recoverable reserves” are redundant and are not a part of this classification system.\n",
    "\n",
    "Therefore, the canadian estimate seems to include identified, speculative reserves.\n",
    "\n",
    "It also notes that reserves grow.\n",
    "\n",
    ">  For example, in 1970, identified and undiscovered world copper resources were estimated to contain 1.6 billion metric tons of copper, with reserves of about 280 million tons of copper. Since then, almost 560 million tons of copper have been produced worldwide, but world copper reserves in 2019 were estimated to be 870 million tons of copper, more than triple those of 1970, despite the depletion by mining of more than the original estimated reserves. \n",
    "\n",
    "\n",
    "Acknowledging that the reserves and price will all ways be changing, but using the canadian identified figure, the world is many times short of the lithium to make it through one night of electricity:"
   ]
  },
  {
   "cell_type": "code",
   "execution_count": 17,
   "id": "540099e4",
   "metadata": {},
   "outputs": [
    {
     "data": {
      "text/latex": [
       "\\[\n",
       "\\begin{aligned}\n",
       "M_{LithiumGlobal} &= 89\\ \\mathrm{megametric\\_ton} \\;\n",
       "\\end{aligned}\n",
       "\\]"
      ],
      "text/plain": [
       "<IPython.core.display.Latex object>"
      ]
     },
     "metadata": {},
     "output_type": "display_data"
    }
   ],
   "source": [
    "%%render params 0\n",
    "M_LithiumGlobal = 89 * u.megatonne\n"
   ]
  },
  {
   "cell_type": "code",
   "execution_count": 18,
   "id": "6d62a105",
   "metadata": {},
   "outputs": [
    {
     "data": {
      "text/latex": [
       "\\[\n",
       "\\begin{aligned}\n",
       "\\mathrm{Ratio} &= 24\\ dimensionless \\; \\;\\textrm{(Times more than global speculated reserves)}\n",
       "\\end{aligned}\n",
       "\\]"
      ],
      "text/plain": [
       "<IPython.core.display.Latex object>"
      ]
     },
     "metadata": {},
     "output_type": "display_data"
    }
   ],
   "source": [
    "%%render params 0\n",
    "Ratio = (M_LithiumStorage / M_LithiumGlobal).to_base_units() # Times more than global speculated reserves"
   ]
  },
  {
   "attachments": {},
   "cell_type": "markdown",
   "id": "0f0c9b69",
   "metadata": {},
   "source": [
    "And using the price of Lithium carbonate for 2023..."
   ]
  },
  {
   "cell_type": "code",
   "execution_count": 19,
   "id": "366eb777",
   "metadata": {},
   "outputs": [
    {
     "data": {
      "text/latex": [
       "\\[\n",
       "\\begin{aligned}\n",
       "\\mathrm{Cost}_{LithiumCarbonate} &= 37000\\ \\frac{\\mathrm{USD}}{\\mathrm{kilogram}} \\;\n",
       "\\end{aligned}\n",
       "\\]"
      ],
      "text/plain": [
       "<IPython.core.display.Latex object>"
      ]
     },
     "metadata": {},
     "output_type": "display_data"
    }
   ],
   "source": [
    "%%render params 0\n",
    "Cost_LithiumCarbonate = 37000 * u.USD / u.kg\n",
    "\n"
   ]
  },
  {
   "cell_type": "code",
   "execution_count": 20,
   "id": "67f2c1c4",
   "metadata": {},
   "outputs": [
    {
     "data": {
      "text/latex": [
       "\\[\n",
       "\\begin{aligned}\n",
       "\\mathrm{LithiumProportion} &= 0.19 \\; \\;\\textrm{(of Lithium carbonate by mass)}\n",
       " &\\mathrm{Cost}_{Lithium} &= 194736.84\\ \\frac{\\mathrm{USD}}{\\mathrm{kilogram}} \\;\n",
       "\\end{aligned}\n",
       "\\]"
      ],
      "text/plain": [
       "<IPython.core.display.Latex object>"
      ]
     },
     "metadata": {},
     "output_type": "display_data"
    }
   ],
   "source": [
    "%%render params 2\n",
    "LithiumProportion = 0.19 # of Lithium carbonate by mass\n",
    "Cost_Lithium = Cost_LithiumCarbonate  / LithiumProportion\n",
    "\n"
   ]
  },
  {
   "cell_type": "code",
   "execution_count": 21,
   "id": "d7d70d20",
   "metadata": {},
   "outputs": [
    {
     "data": {
      "text/latex": [
       "\\[\n",
       "\\begin{aligned}\n",
       "\\mathrm{Cost}_{NightlyStorage} &= 421473\\ \\mathrm{teraUSD} \\; \n",
       " &\\mathrm{GlobalGDP} &= 100\\ \\mathrm{teraUSD} \\;\n",
       "\\end{aligned}\n",
       "\\]"
      ],
      "text/plain": [
       "<IPython.core.display.Latex object>"
      ]
     },
     "metadata": {},
     "output_type": "display_data"
    }
   ],
   "source": [
    "%%render params 0\n",
    "Cost_NightlyStorage = (M_LithiumStorage * Cost_Lithium).to(u.teraUSD)\n",
    "GlobalGDP = 100 * u.teraUSD\n"
   ]
  },
  {
   "cell_type": "code",
   "execution_count": 22,
   "id": "1bca477b",
   "metadata": {},
   "outputs": [
    {
     "data": {
      "text/latex": [
       "\\[\n",
       "\\begin{aligned}\n",
       "\\mathrm{Ratio} &= 4215\\ dimensionless \\; \\;\\textrm{(times GDP)}\n",
       "\\end{aligned}\n",
       "\\]"
      ],
      "text/plain": [
       "<IPython.core.display.Latex object>"
      ]
     },
     "metadata": {},
     "output_type": "display_data"
    }
   ],
   "source": [
    "%%render params 0\n",
    "Ratio = (Cost_NightlyStorage / GlobalGDP).to_base_units() # times GDP"
   ]
  },
  {
   "attachments": {},
   "cell_type": "markdown",
   "id": "822021de",
   "metadata": {},
   "source": [
    "In terms of the global rate of lithium mining, it would also take an incredibly long time. Lithium production is rising as an incredible velocity. From 2022-23 appear to have seen more than 30% growth. But even at this rate, and assuming 100% of the lithium is used for batteries, its physically impossible when you consider that batteries need recycling every 10 years."
   ]
  },
  {
   "cell_type": "code",
   "execution_count": 23,
   "id": "08b1d2f1",
   "metadata": {},
   "outputs": [
    {
     "data": {
      "text/latex": [
       "\\[\n",
       "\\begin{aligned}\n",
       "M_{LithiumStorage} &= 2\\ \\mathrm{gigametric\\_ton} \\; \n",
       " &\\mathrm{ProductionRate} &= 130000\\ \\frac{\\mathrm{metric\\_ton}}{\\mathrm{year}} \\;\n",
       "\\end{aligned}\n",
       "\\]"
      ],
      "text/plain": [
       "<IPython.core.display.Latex object>"
      ]
     },
     "metadata": {},
     "output_type": "display_data"
    }
   ],
   "source": [
    "%%render  params 0\n",
    "M_LithiumStorage\n",
    "ProductionRate = 130_000 * u.tonnes / u.year\n"
   ]
  },
  {
   "cell_type": "code",
   "execution_count": 24,
   "id": "efeade10",
   "metadata": {},
   "outputs": [
    {
     "data": {
      "text/latex": [
       "\\[\n",
       "\\begin{aligned}\n",
       "\\mathrm{Time} &= 16649\\ \\mathrm{year} \\; \\;\\textrm{(years to mine the necessary lithium)}\n",
       "\\end{aligned}\n",
       "\\]"
      ],
      "text/plain": [
       "<IPython.core.display.Latex object>"
      ]
     },
     "metadata": {},
     "output_type": "display_data"
    }
   ],
   "source": [
    "%%render params 0\n",
    "Time = (M_LithiumStorage / ProductionRate).to(u.year) # to mine the necessary lithium"
   ]
  },
  {
   "attachments": {},
   "cell_type": "markdown",
   "id": "13b9f2fd",
   "metadata": {},
   "source": [
    "So neither in terms of budget, Lithium reserves or production rate is it feasible to produce the lithium required for even the most basic requirement of a single night's storage."
   ]
  }
 ],
 "metadata": {
  "kernelspec": {
   "display_name": "calcs",
   "language": "python",
   "name": "python3"
  },
  "language_info": {
   "codemirror_mode": {
    "name": "ipython",
    "version": 3
   },
   "file_extension": ".py",
   "mimetype": "text/x-python",
   "name": "python",
   "nbconvert_exporter": "python",
   "pygments_lexer": "ipython3",
   "version": "3.11.3"
  }
 },
 "nbformat": 4,
 "nbformat_minor": 5
}
